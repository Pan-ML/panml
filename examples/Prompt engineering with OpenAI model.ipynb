{
 "cells": [
  {
   "cell_type": "code",
   "execution_count": 1,
   "id": "acad3dd5",
   "metadata": {},
   "outputs": [],
   "source": [
    "from panml.models import ModelPack"
   ]
  },
  {
   "cell_type": "code",
   "execution_count": 2,
   "id": "ca52877a",
   "metadata": {},
   "outputs": [],
   "source": [
    "# Read OpenAI API key\n",
    "with open('openai_key.txt') as f:\n",
    "    lines = f.readlines()\n",
    "openai_key = lines[0]\n",
    "\n",
    "lm = ModelPack(model='text-davinci-002', source='openai', api_key=openai_key)"
   ]
  },
  {
   "cell_type": "code",
   "execution_count": 3,
   "id": "791360c7",
   "metadata": {},
   "outputs": [
    {
     "data": {
      "text/plain": [
       "'\\nThe best way to live a healthy lifestyle is to eat healthy foods, get regular exercise, and get enough sleep.'"
      ]
     },
     "execution_count": 3,
     "metadata": {},
     "output_type": "execute_result"
    }
   ],
   "source": [
    "output = lm.predict('What is the best way to live a healthy lifestyle?', display_probability=True)\n",
    "output['text']"
   ]
  },
  {
   "cell_type": "code",
   "execution_count": 4,
   "id": "139295e4",
   "metadata": {},
   "outputs": [
    {
     "data": {
      "text/plain": [
       "[{'token': '\\n', 'probability': 0.9912054538726807},\n",
       " {'token': 'The', 'probability': 0.40332919359207153},\n",
       " {'token': ' best', 'probability': 0.9554144740104675},\n",
       " {'token': ' way', 'probability': 0.9988343715667725},\n",
       " {'token': ' to', 'probability': 0.9993247985839844},\n",
       " {'token': ' live', 'probability': 0.9953351020812988},\n",
       " {'token': ' a', 'probability': 0.9993987679481506},\n",
       " {'token': ' healthy', 'probability': 0.9940401911735535},\n",
       " {'token': ' lifestyle', 'probability': 0.9996991157531738},\n",
       " {'token': ' is', 'probability': 0.9965250492095947},\n",
       " {'token': ' to', 'probability': 0.6142258644104004},\n",
       " {'token': ' eat', 'probability': 0.7320703864097595},\n",
       " {'token': ' healthy', 'probability': 0.7284587621688843},\n",
       " {'token': ' foods', 'probability': 0.9905666708946228},\n",
       " {'token': ',', 'probability': 0.9961066842079163},\n",
       " {'token': ' get', 'probability': 0.5709289312362671},\n",
       " {'token': ' regular', 'probability': 0.5758504867553711},\n",
       " {'token': ' exercise', 'probability': 0.997050940990448},\n",
       " {'token': ',', 'probability': 0.9999954104423523},\n",
       " {'token': ' and', 'probability': 0.9987388849258423},\n",
       " {'token': ' get', 'probability': 0.984575092792511},\n",
       " {'token': ' enough', 'probability': 0.6001538634300232},\n",
       " {'token': ' sleep', 'probability': 0.9931554198265076},\n",
       " {'token': '.', 'probability': 0.9860997796058655}]"
      ]
     },
     "execution_count": 4,
     "metadata": {},
     "output_type": "execute_result"
    }
   ],
   "source": [
    "output['probability']"
   ]
  },
  {
   "cell_type": "code",
   "execution_count": 5,
   "id": "596630e1",
   "metadata": {},
   "outputs": [
    {
     "data": {
      "text/plain": [
       "'\\nAssuming you are starting from a sedentary lifestyle, a good goal to aim for is 30 minutes of moderate-intensity exercise most days of the week. This could include brisk walking, biking, swimming, or using a elliptical trainer. Start with whatever you feel comfortable with and gradually increase your time and intensity as you get more fit. Remember to warm up and cool down for 5-10 minutes before and after your workout. In addition to aerobic exercise, it is also important to include strength training in your routine. Strength-training not only helps to tone your body, but can also help to reduce your risk of injuries in the future. A simple way to start strength-training is to use your own body weight for resistance. Try doing push-ups, sit-ups, and squats. As you get stronger, you can add weight by using dumbbells or resistance bands. Aim for two to three days of strength-training per week. Finally, be sure to get enough sleep each night. Most adults need 7-8 hours of sleep per night. Getting enough sleep will help your body to recover from your workouts and will also help to reduce stress levels.'"
      ]
     },
     "execution_count": 5,
     "metadata": {},
     "output_type": "execute_result"
    }
   ],
   "source": [
    "prompts = [\n",
    "    {'prepend': 'you are a sports coach'},\n",
    "    {'prepend': 'produce a daily exercise plan for one week'},\n",
    "    {'prepend': 'summarise to the original question'},\n",
    "]\n",
    "\n",
    "output = lm.predict('What is the best way to live a healthy lifestyle?', prompt_modifier=prompts, max_tokens=600)\n",
    "output['text']"
   ]
  },
  {
   "cell_type": "code",
   "execution_count": 5,
   "id": "8398482c",
   "metadata": {},
   "outputs": [
    {
     "name": "stdout",
     "output_type": "stream",
     "text": [
      "x, ans = 19, None\n",
      "\n",
      "def Fibonacci(x): \n",
      "    if x<0: \n",
      "        print(\"Incorrect input\") \n",
      "    elif x==1: \n",
      "        return 0\n",
      "    elif x==2: \n",
      "        return 1\n",
      "    else: \n",
      "        return Fibonacci(x-1)+Fibonacci(x-2) \n",
      "\n",
      "ans = Fibonacci(x)\n",
      "\n",
      "Answer: 2584\n"
     ]
    }
   ],
   "source": [
    "code = lm.predict_code('calculate the fibonacci sequence using input', x=19, \n",
    "                       variable_names={'output': 'ans'}, language='python')\n",
    "print(code)\n",
    "exec(code) # execute code in Python\n",
    "print(f'\\nAnswer: {ans}')"
   ]
  },
  {
   "cell_type": "code",
   "execution_count": null,
   "id": "e2e7265a",
   "metadata": {},
   "outputs": [],
   "source": []
  }
 ],
 "metadata": {
  "kernelspec": {
   "display_name": "Python 3 (ipykernel)",
   "language": "python",
   "name": "python3"
  },
  "language_info": {
   "codemirror_mode": {
    "name": "ipython",
    "version": 3
   },
   "file_extension": ".py",
   "mimetype": "text/x-python",
   "name": "python",
   "nbconvert_exporter": "python",
   "pygments_lexer": "ipython3",
   "version": "3.9.6"
  }
 },
 "nbformat": 4,
 "nbformat_minor": 5
}
